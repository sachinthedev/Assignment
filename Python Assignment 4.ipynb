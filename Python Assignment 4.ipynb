{
 "cells": [
  {
   "cell_type": "markdown",
   "metadata": {},
   "source": [
    "## 1.1 Write a Python Program(with class concepts) to find the area of the triangle. Function to take the length of the sides of triangle from user should be defined in the parent class and function to calculate the area should be defined in subclass."
   ]
  },
  {
   "cell_type": "code",
   "execution_count": 1,
   "metadata": {},
   "outputs": [],
   "source": [
    "class Triangle():\n",
    "    def __init__(self):\n",
    "        self.a=int(input('Enter the len of a:'))\n",
    "        self.b=int(input('Enter the len of b:'))\n",
    "        self.c=int(input('Enter the len of c:'))"
   ]
  },
  {
   "cell_type": "code",
   "execution_count": 2,
   "metadata": {},
   "outputs": [
    {
     "name": "stdout",
     "output_type": "stream",
     "text": [
      "Enter the len of a:5\n",
      "Enter the len of b:5\n",
      "Enter the len of c:5\n",
      "10.825317547305483\n"
     ]
    }
   ],
   "source": [
    "class Calculate(Triangle):\n",
    "    def __init__(self,*args):\n",
    "        super(Calculate,self).__init__(*args)\n",
    "    \n",
    "    def finds(self):\n",
    "        s=((self.a+self.b+self.c)/2)\n",
    "        area=(s*(s-self.a)*(s-self.b)*(s-self.c)) ** 0.5\n",
    "        print(area) \n",
    "ss=Calculate()\n",
    "ss.finds()"
   ]
  },
  {
   "cell_type": "markdown",
   "metadata": {},
   "source": [
    "## 1.2 Write a function filter_long_words() that takes a list of words and an integer n and returns the list of words that are longer than n."
   ]
  },
  {
   "cell_type": "code",
   "execution_count": 3,
   "metadata": {},
   "outputs": [],
   "source": [
    "def filter_long_words():\n",
    "    lst=['Sachin','Kumar',3,'Chess','Ball','Cat']   \n",
    "    for i in lst:        \n",
    "        if type(i)==int:\n",
    "            for j in lst:\n",
    "                if type(j)==int:\n",
    "                    continue                \n",
    "                elif len(j)>i:\n",
    "                    print(j)\n",
    "                "
   ]
  },
  {
   "cell_type": "code",
   "execution_count": 4,
   "metadata": {},
   "outputs": [
    {
     "name": "stdout",
     "output_type": "stream",
     "text": [
      "Sachin\n",
      "Kumar\n",
      "Chess\n",
      "Ball\n"
     ]
    }
   ],
   "source": [
    "filter_long_words()"
   ]
  },
  {
   "cell_type": "markdown",
   "metadata": {},
   "source": [
    "## 2.1 Write a Python program using function concept that maps list of words into a list of integers representing the lengths of the corresponding words."
   ]
  },
  {
   "cell_type": "code",
   "execution_count": 5,
   "metadata": {},
   "outputs": [
    {
     "name": "stdout",
     "output_type": "stream",
     "text": [
      "[4, 3, 5, 7]\n"
     ]
    }
   ],
   "source": [
    "lsw=['king','jam','Tiger','Partial']\n",
    "lsi=[]\n",
    "for i in range(len(lsw)):\n",
    "    lsi.append(len(lsw[i]))\n",
    "    \n",
    "print(lsi) "
   ]
  },
  {
   "cell_type": "markdown",
   "metadata": {},
   "source": [
    "\n",
    "## 2.2 Write a Python function which takes a character (i.e. a string of length 1) and returns True if it is a vowel, False otherwise."
   ]
  },
  {
   "cell_type": "code",
   "execution_count": 9,
   "metadata": {},
   "outputs": [
    {
     "name": "stdout",
     "output_type": "stream",
     "text": [
      "Enter the character:r\n",
      "False\n"
     ]
    }
   ],
   "source": [
    "def ch(char):\n",
    "    a='aeiouAEIOU'\n",
    "    for i in range(len(a)):\n",
    "        if char==a[i]:\n",
    "            print('True')  \n",
    "            break\n",
    "    else:\n",
    "        print('False')\n",
    "char=input(\"Enter the character:\")\n",
    "if len(char)==1:\n",
    "    ch(char)\n",
    "else:\n",
    "    print('Please enter the one character')"
   ]
  }
 ],
 "metadata": {
  "kernelspec": {
   "display_name": "Python 3",
   "language": "python",
   "name": "python3"
  },
  "language_info": {
   "codemirror_mode": {
    "name": "ipython",
    "version": 3
   },
   "file_extension": ".py",
   "mimetype": "text/x-python",
   "name": "python",
   "nbconvert_exporter": "python",
   "pygments_lexer": "ipython3",
   "version": "3.7.4"
  }
 },
 "nbformat": 4,
 "nbformat_minor": 2
}
